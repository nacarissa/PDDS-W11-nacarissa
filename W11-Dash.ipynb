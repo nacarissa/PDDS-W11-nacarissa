{
 "cells": [
  {
   "cell_type": "markdown",
   "metadata": {},
   "source": [
    "# Dash"
   ]
  },
  {
   "cell_type": "code",
   "execution_count": 2,
   "metadata": {},
   "outputs": [],
   "source": [
    "#Load the package\n",
    "from dash import Dash, html, dcc\n",
    "from dash.dependencies import Input, Output\n",
    "import plotly.express as px\n",
    "import pandas as pd"
   ]
  },
  {
   "cell_type": "markdown",
   "metadata": {},
   "source": [
    "## A Very Simple Dash App"
   ]
  },
  {
   "cell_type": "code",
   "execution_count": null,
   "metadata": {},
   "outputs": [],
   "source": [
    "#Create the dash app\n",
    "app = Dash(__name__)\n",
    "\n",
    "#Define the layout of the app\n",
    "app.layout = html.Div([\n",
    "    html.H1(\"Welcome to my Dashboard!\"), #A level 1 header\n",
    "    html.P(\"This is a simple example.\"), #A paragraph of the text\n",
    "    html.Div(\"This is another div.\") #Another div element\n",
    "])\n",
    "\n",
    "#Run the app\n",
    "app.run_server(debug = True)"
   ]
  },
  {
   "cell_type": "markdown",
   "metadata": {},
   "source": [
    "## Steps to Create a Dash Application"
   ]
  },
  {
   "cell_type": "code",
   "execution_count": null,
   "metadata": {},
   "outputs": [
    {
     "name": "stdout",
     "output_type": "stream",
     "text": [
      "    Year           Region  PM2.5\n",
      "0   2010  Northern_Taiwan     35\n",
      "1   2011  Northern_Taiwan     34\n",
      "2   2012  Northern_Taiwan     36\n",
      "3   2013  Northern_Taiwan     35\n",
      "4   2014  Northern_Taiwan     33\n",
      "..   ...              ...    ...\n",
      "86  2018  Hualien_Taitung     13\n",
      "87  2019  Hualien_Taitung     12\n",
      "88  2020  Hualien_Taitung     11\n",
      "89  2021  Hualien_Taitung     10\n",
      "90  2022  Hualien_Taitung      9\n",
      "\n",
      "[91 rows x 3 columns]\n"
     ]
    },
    {
     "data": {
      "text/html": [
       "\n",
       "        <iframe\n",
       "            width=\"100%\"\n",
       "            height=\"650\"\n",
       "            src=\"http://127.0.0.1:8050/\"\n",
       "            frameborder=\"0\"\n",
       "            allowfullscreen\n",
       "            \n",
       "        ></iframe>\n",
       "        "
      ],
      "text/plain": [
       "<IPython.lib.display.IFrame at 0x272dc62a650>"
      ]
     },
     "metadata": {},
     "output_type": "display_data"
    }
   ],
   "source": [
    "#Step 1: Import the necessary libraries\n",
    "#Load the dataset\n",
    "df_pm25 = pd.read_csv(\"I:/My Drive/113 Fall 2024 PDDS/PDDS W11/TaiwanPM25_synthetic_data-1.csv\")\n",
    "\n",
    "#Melt the data for Plotly Compatibility\n",
    "df_pm25_long = df_pm25.melt(id_vars = 'Year',\n",
    "                       var_name = 'Region',\n",
    "                       value_name = 'PM2.5')\n",
    "print(df_pm25_long)\n",
    "\n",
    "#Step 2: Create the Dash Application\n",
    "app_pm25 = Dash(__name__)\n",
    "\n",
    "#For deployment\n",
    "server = app.server\n",
    "\n",
    "#Step 3: Set up the HTML layout\n",
    "app_pm25.layout = html.Div([\n",
    "    html.H2(\"PM2.5 levels Across Taiwan Regions (2010 - 2022)\"), #Header\n",
    "    dcc.Dropdown(\n",
    "        id = 'dropdown',\n",
    "        options = [{'label': region, 'value': region}\n",
    "                   for region in df_pm25_long['Region'].unique()],\n",
    "        value = 'Northern_Taiwan', #Default selection\n",
    "        multi = True #Allow multiple region selection dropdown for selecting regions\n",
    "    ),\n",
    "    dcc.Graph(id = \"graph\") #Graph component for Plotly Chart\n",
    "])\n",
    "\n",
    "#Step 4: Add callback function\n",
    "@app_pm25.callback(Output(\"graph\", \"figure\"), [Input('dropdown', 'value')])\n",
    "def update_chart(selected_regions):\n",
    "    #Ensure selected regions is a list, even if only one region is selected, isinstance() is a function used to check if an object of a specific type or class\n",
    "    if isinstance(selected_regions, str):\n",
    "        selected_regions = [selected_regions]\n",
    "    \n",
    "    #Filter data based on selected regions\n",
    "    filtered_df_pm25 = df_pm25_long[df_pm25_long['Region'].isin(selected_regions)]\n",
    "\n",
    "    #Generate the line plot\n",
    "    fig_pm25 = px.line(\n",
    "        filtered_df_pm25,\n",
    "        x = \"Year\",\n",
    "        y = \"PM2.5\",\n",
    "        color = 'Region',\n",
    "        title = \"PM2.5 Levels Across Taiwan Regions (2010 - 2022)\",\n",
    "        markers = True #Add markers to each data point for better readability\n",
    "    )\n",
    "\n",
    "    #Customize the layout\n",
    "    fig_pm25.update_layout(\n",
    "        yaxis_title = \"PM2.5 (miug/m3)\",\n",
    "        xaxis_title = \"Year\",\n",
    "        legend_title_text = \"Region\"\n",
    "    )\n",
    "\n",
    "    #Set the y-axis to start at a minimum level, not zero, for better detail on small changes\n",
    "    fig_pm25.update_yaxes(rangemode = \"tozero\", title = \"PM2.5 (miug/m3)\")\n",
    "\n",
    "    return fig_pm25\n",
    "\n",
    "#Step 5: Run the application\n",
    "if __name__ == '__main__':\n",
    "    app_pm25.run(debug = True)"
   ]
  }
 ],
 "metadata": {
  "kernelspec": {
   "display_name": "Python 3",
   "language": "python",
   "name": "python3"
  },
  "language_info": {
   "codemirror_mode": {
    "name": "ipython",
    "version": 3
   },
   "file_extension": ".py",
   "mimetype": "text/x-python",
   "name": "python",
   "nbconvert_exporter": "python",
   "pygments_lexer": "ipython3",
   "version": "3.10.2"
  }
 },
 "nbformat": 4,
 "nbformat_minor": 2
}
